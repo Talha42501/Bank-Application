{
 "cells": [
  {
   "cell_type": "code",
   "execution_count": 15,
   "id": "ae7b02fb-d336-4beb-a05e-3365e9d51e8a",
   "metadata": {},
   "outputs": [
    {
     "name": "stdout",
     "output_type": "stream",
     "text": [
      " T Bank Limited\n",
      "\n",
      "Account created for John Doe with balance $0.0.\n",
      "Deposited $500. New balance: $500.0.\n",
      "Withdrew $200. New balance: $300.0.\n",
      "Current balance: $300.0.\n",
      "Account statement for John Doe:\n",
      "- Deposit: $500\n",
      "- Withdrawal: $200\n",
      "Final Balance: $300.0\n"
     ]
    }
   ],
   "source": [
    "\n",
    "\n",
    "\n",
    "def create_account(name, initial_balance=0.0):\n",
    "    return {\n",
    "        \"name\": name,\n",
    "        \"balance\": initial_balance,\n",
    "        \"transactions\": []\n",
    "    }\n",
    "\n",
    "\n",
    "def deposit(account, amount):\n",
    "    if amount <= 0:\n",
    "        return \"Error: Deposit amount must be positive.\"\n",
    "    account[\"balance\"] += amount\n",
    "    account[\"transactions\"].append(f\"Deposit: ${amount}\")\n",
    "    return f\"Deposited ${amount}. New balance: ${account['balance']}.\"\n",
    "\n",
    "\n",
    "def withdraw(account, amount):\n",
    "    if amount <= 0:\n",
    "        return \"Error: Withdrawal amount must be positive.\"\n",
    "    if account[\"balance\"] < amount:\n",
    "        return \"Error: Insufficient balance.\"\n",
    "    account[\"balance\"] -= amount\n",
    "    account[\"transactions\"].append(f\"Withdrawal: ${amount}\")\n",
    "    return f\"Withdrew ${amount}. New balance: ${account['balance']}.\"\n",
    "\n",
    "\n",
    "def check_balance(account):\n",
    "    return f\"Current balance: ${account['balance']}.\"\n",
    "\n",
    "# Function to print the transaction statement\n",
    "def print_statement(account):\n",
    "    if not account[\"transactions\"]:\n",
    "        return \"No transactions found.\"\n",
    "    statement = f\"Account statement for {account['name']}:\\n\"\n",
    "    for transaction in account[\"transactions\"]:\n",
    "        statement += f\"- {transaction}\\n\"\n",
    "    statement += f\"Final Balance: ${account['balance']}\"\n",
    "    return statement\n",
    "\n",
    "\n",
    "if __name__ == \"__main__\":\n",
    "    \n",
    "    john_account = create_account(\"John Doe\")\n",
    "    print(f\" T Bank Limited\\n\\nAccount created for {john_account['name']} with balance ${john_account['balance']}.\")\n",
    "\n",
    "    \n",
    "    print(deposit(john_account, 500))\n",
    "\n",
    "\n",
    "    print(withdraw(john_account, 200))\n",
    "\n",
    "    \n",
    "    print(check_balance(john_account))\n",
    "\n",
    "  \n",
    "    print(print_statement(john_account))\n",
    "\n"
   ]
  },
  {
   "cell_type": "code",
   "execution_count": null,
   "id": "8c1c6849-da9d-4190-92ef-1491afb007c1",
   "metadata": {},
   "outputs": [],
   "source": []
  }
 ],
 "metadata": {
  "kernelspec": {
   "display_name": "Python 3 (ipykernel)",
   "language": "python",
   "name": "python3"
  },
  "language_info": {
   "codemirror_mode": {
    "name": "ipython",
    "version": 3
   },
   "file_extension": ".py",
   "mimetype": "text/x-python",
   "name": "python",
   "nbconvert_exporter": "python",
   "pygments_lexer": "ipython3",
   "version": "3.12.7"
  }
 },
 "nbformat": 4,
 "nbformat_minor": 5
}
